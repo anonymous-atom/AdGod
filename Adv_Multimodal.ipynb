{
 "cells": [
  {
   "cell_type": "markdown",
   "id": "6b5a2447b27a80cb",
   "metadata": {},
   "source": [
    "# Ad Creative Recognition With Computer Vision"
   ]
  },
  {
   "cell_type": "markdown",
   "id": "122f2135",
   "metadata": {},
   "source": [
    "### Table Of Content:\n",
    "* [Visual Rhetoric In Ad Creative](#first-bullet)\n",
    "* [Using CNNs](#CNN)"
   ]
  },
  {
   "cell_type": "markdown",
   "id": "9a20cc30",
   "metadata": {},
   "source": [
    "## Results\n",
    "\n",
    "| Model Name | Train Accuracy  | Validation Accuracy: |\n",
    "|----------|----------|----------|\n",
    "|  ResNet152   | 79.28   | 79.96   |\n",
    "| CLIP(Original Weights)   | --   | Data 6   |\n",
    "| CLIP(Finetuned)   | Data 5   | Data 6   |\n"
   ]
  },
  {
   "cell_type": "markdown",
   "id": "0363952a",
   "metadata": {},
   "source": [
    "<a class=\"anchor\" id=\"first-bullet\"></a>\n",
    "\n",
    "Ads are persuasive because they convey a certain message that appeals to the viewer.\n",
    "\n",
    "These are just a few examples of how ads use different types of **visual rhetoric** to convey their message, namely:\n",
    "\n",
    "- common-sense reasoning,\n",
    "- symbolism, and\n",
    "- recognition of non-photorealistic objects.\n",
    "\n",
    "![Image with Complex Rhetoric Image](paper1.png \"Few Images with Complex Rhetoric Image\")\n",
    "![Image with Complex Rhetoric Image](paper2.png \"Few Images with Complex Rhetoric Image\")\n",
    "![Image with Complex Rhetoric Image](complex_img.png \"Few Images with Complex Rhetoric Image\")\n",
    "\n"
   ]
  },
  {
   "cell_type": "markdown",
   "id": "becfa9c4",
   "metadata": {},
   "source": [
    "<a class=\"anchor\" id=\"CNN\"></a>\n",
    "\n",
    "## We need to develop a method to decode symbolism in ads to better understand the visual rhetoric in an Ad Creative"
   ]
  },
  {
   "cell_type": "markdown",
   "id": "053bb76a",
   "metadata": {},
   "source": [
    "## CNNs to decode the Visual Rhetoric in an Ad Creative"
   ]
  },
  {
   "cell_type": "markdown",
   "id": "13646056252d2e2c",
   "metadata": {},
   "source": [
    "### Checkout the below notebook for CNN based solution\n",
    "\n",
    "[CNNs performance on Ad Creative Image Understanding](ImageUnderstanding.ipynb)"
   ]
  },
  {
   "cell_type": "markdown",
   "id": "7af04634",
   "metadata": {},
   "source": [
    "| Model Name | Train Accuracy  | Validation Accuracy: |\n",
    "|----------|----------|----------|\n",
    "|  ResNet152   | 79.28   | 79.96   |\n"
   ]
  },
  {
   "cell_type": "markdown",
   "id": "f5a5d20a",
   "metadata": {},
   "source": [
    "## Visual Question Answering\n",
    "![Image with Complex Rhetoric Image](paper3.png \"Few Images with Complex Rhetoric Image\")"
   ]
  },
  {
   "cell_type": "code",
   "execution_count": 15,
   "id": "d99667fb",
   "metadata": {
    "ExecuteTime": {
     "end_time": "2024-02-04T14:43:32.065782808Z",
     "start_time": "2024-02-04T14:43:32.048115837Z"
    }
   },
   "outputs": [],
   "source": [
    "import deepspeed\n",
    "\n",
    "def initialize(args,\n",
    "               model,\n",
    "               trainset,\n",
    "               optimizer=None,\n",
    "               model_params=None,\n",
    "               training_data=None,\n",
    "               lr_scheduler=None,\n",
    "               mpu=None,\n",
    "               dist_init_required=True,\n",
    "               collate_fn=None):\n",
    "    parameters = filter(lambda p: p.requires_grad, model.parameters())\n"
   ]
  }
 ],
 "metadata": {
  "kernelspec": {
   "display_name": "Python 3 (ipykernel)",
   "language": "python",
   "name": "python3"
  },
  "language_info": {
   "codemirror_mode": {
    "name": "ipython",
    "version": 3
   },
   "file_extension": ".py",
   "mimetype": "text/x-python",
   "name": "python",
   "nbconvert_exporter": "python",
   "pygments_lexer": "ipython3",
   "version": "3.10.13"
  }
 },
 "nbformat": 4,
 "nbformat_minor": 5
}
